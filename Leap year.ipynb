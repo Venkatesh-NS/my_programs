{
 "cells": [
  {
   "cell_type": "markdown",
   "metadata": {},
   "source": [
    "## Finding the Leap year"
   ]
  },
  {
   "cell_type": "code",
   "execution_count": 11,
   "metadata": {},
   "outputs": [],
   "source": [
    "def is_leap(year):\n",
    "    if year%400==0:\n",
    "        return True\n",
    "    if year%100==0:\n",
    "        return False\n",
    "    if year%4==0:\n",
    "        return True\n",
    "    else:\n",
    "        return False\n",
    "\n"
   ]
  },
  {
   "cell_type": "code",
   "execution_count": 12,
   "metadata": {},
   "outputs": [
    {
     "name": "stdout",
     "output_type": "stream",
     "text": [
      "please enter the year : 1992\n",
      "1992 is a LEAP YEAR\n"
     ]
    }
   ],
   "source": [
    "year = int(input(\"please enter the year : \"))\n",
    "ye=is_leap(year)\n",
    "if ye==True:\n",
    "    print(year,\"is a LEAP YEAR\")\n",
    "else:\n",
    "    print(year,\"is not a LEAP YEAR\")"
   ]
  },
  {
   "cell_type": "code",
   "execution_count": 13,
   "metadata": {},
   "outputs": [
    {
     "name": "stdout",
     "output_type": "stream",
     "text": [
      "please enter the year : 2100\n",
      "2100 is not a LEAP YEAR\n"
     ]
    }
   ],
   "source": [
    "year = int(input(\"please enter the year : \"))\n",
    "ye=is_leap(year)\n",
    "if ye==True:\n",
    "    print(year,\"is a LEAP YEAR\")\n",
    "else:\n",
    "    print(year,\"is not a LEAP YEAR\")"
   ]
  }
 ],
 "metadata": {
  "kernelspec": {
   "display_name": "Python 3",
   "language": "python",
   "name": "python3"
  },
  "language_info": {
   "codemirror_mode": {
    "name": "ipython",
    "version": 3
   },
   "file_extension": ".py",
   "mimetype": "text/x-python",
   "name": "python",
   "nbconvert_exporter": "python",
   "pygments_lexer": "ipython3",
   "version": "3.7.4"
  }
 },
 "nbformat": 4,
 "nbformat_minor": 2
}
