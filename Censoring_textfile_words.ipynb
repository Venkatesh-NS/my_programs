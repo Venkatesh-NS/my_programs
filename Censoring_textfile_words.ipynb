{
 "cells": [
  {
   "cell_type": "markdown",
   "metadata": {},
   "source": [
    "##  Censoring unwanted words from a text file\n",
    "- Here Censoring words are dirty, fool, donkey monkey, dog, punish.\n",
    "- we will replace the words with &#%!@?!."
   ]
  },
  {
   "cell_type": "code",
   "execution_count": 13,
   "metadata": {},
   "outputs": [
    {
     "name": "stdout",
     "output_type": "stream",
     "text": [
      "Rocky is a very dirty boy.\n",
      "He is always fooling around at all times. cheating and doing bad things to others\n",
      "rocky is like a donkey.\n",
      "making monkey-like actions to others irritating all time.\n",
      "Sometimes he acts like a dog. people hate him for what he is doing.\n",
      "I hope his parents will punish him.\n",
      "\n"
     ]
    }
   ],
   "source": [
    "#input\n",
    "with open(\"sample_text.txt\") as f:\n",
    "    given=f.read()\n",
    "    print(given)\n",
    "w = ['dirty','fool','donkey','monkey','dog','punish']\n",
    "for i in w:\n",
    "    given = given.replace(i,\"&#%!@?!\")\n",
    "    with open(\"sample_text.txt\",\"w\") as f:\n",
    "        f.write(given)"
   ]
  },
  {
   "cell_type": "code",
   "execution_count": 15,
   "metadata": {},
   "outputs": [
    {
     "name": "stdout",
     "output_type": "stream",
     "text": [
      "Rocky is a very &#%!@?! boy.\n",
      "He is always &#%!@?!ing around at all times. cheating and doing bad things to others\n",
      "rocky is like a &#%!@?!.\n",
      "making &#%!@?!-like actions to others irritating all time.\n",
      "Sometimes he acts like a &#%!@?!. people hate him for what he is doing.\n",
      "I hope his parents will &#%!@?! him.\n",
      "\n"
     ]
    }
   ],
   "source": [
    "#output\n",
    "with open(\"sample_text.txt\") as f:\n",
    "    given=f.read()\n",
    "    print(given)"
   ]
  }
 ],
 "metadata": {
  "kernelspec": {
   "display_name": "Python 3",
   "language": "python",
   "name": "python3"
  },
  "language_info": {
   "codemirror_mode": {
    "name": "ipython",
    "version": 3
   },
   "file_extension": ".py",
   "mimetype": "text/x-python",
   "name": "python",
   "nbconvert_exporter": "python",
   "pygments_lexer": "ipython3",
   "version": "3.7.4"
  }
 },
 "nbformat": 4,
 "nbformat_minor": 2
}
