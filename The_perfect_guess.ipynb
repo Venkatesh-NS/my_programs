{
 "cells": [
  {
   "cell_type": "markdown",
   "metadata": {},
   "source": [
    "## The perfect guess"
   ]
  },
  {
   "cell_type": "code",
   "execution_count": 8,
   "metadata": {},
   "outputs": [
    {
     "name": "stdout",
     "output_type": "stream",
     "text": [
      "Enter a number between 1 to 100 : 67\n",
      "***Please enter a smaller number then exixting inupt number***\n",
      "Enter a number between 1 to 100 : 50\n",
      "***Please enter a smaller number then exixting inupt number***\n",
      "Enter a number between 1 to 100 : 30\n",
      "***Please enter a smaller number then exixting inupt number***\n",
      "Enter a number between 1 to 100 : 20\n",
      "***Please enter a smaller number then exixting inupt number***\n",
      "Enter a number between 1 to 100 : 10\n",
      "***Please enter a smaller number then exixting inupt number***\n",
      "Enter a number between 1 to 100 : 5\n",
      "***Please enter a smaller number then exixting inupt number***\n",
      "Enter a number between 1 to 100 : 4\n",
      "***Please enter a smaller number then exixting inupt number***\n",
      "Enter a number between 1 to 100 : 3\n",
      "***Please enter a smaller number then exixting inupt number***\n",
      "Enter a number between 1 to 100 : 2\n",
      "***Please enter a smaller number then exixting inupt number***\n",
      "Enter a number between 1 to 100 : 1\n",
      "***Great you guessed correctly***\n",
      "You have guess the correct number in 10 chance\n",
      "*************END*************\n"
     ]
    }
   ],
   "source": [
    "import random\n",
    "rand= random.randint(1,100)\n",
    "user=None\n",
    "guess=0\n",
    "\n",
    "while (user != rand):\n",
    "    user=int(input(\"Enter a number between 1 to 100 : \"))\n",
    "    guess +=1\n",
    "    if (rand== user):\n",
    "        print(\"***Great you guessed correctly***\")\n",
    "    else:\n",
    "        if (rand>user):\n",
    "            print(\"***Please enter a larger number then existing input number***\")\n",
    "        else:\n",
    "            print(\"***Please enter a smaller number then exixting inupt number***\")\n",
    "print(f'You have guess the correct number in {guess} chance')\n",
    "print(\"*************END*************\")\n"
   ]
  }
 ],
 "metadata": {
  "kernelspec": {
   "display_name": "Python 3",
   "language": "python",
   "name": "python3"
  },
  "language_info": {
   "codemirror_mode": {
    "name": "ipython",
    "version": 3
   },
   "file_extension": ".py",
   "mimetype": "text/x-python",
   "name": "python",
   "nbconvert_exporter": "python",
   "pygments_lexer": "ipython3",
   "version": "3.7.4"
  }
 },
 "nbformat": 4,
 "nbformat_minor": 2
}
